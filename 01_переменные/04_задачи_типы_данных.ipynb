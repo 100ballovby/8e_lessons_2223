{
 "cells": [
  {
   "cell_type": "markdown",
   "source": [
    "# Приведение типов данных. Задачи\n",
    "\n",
    "## Задача 1. Сумма трех чисел\n",
    "\n",
    "<p>Напишите программу, которая считывает три числа и выводит их сумму. Каждое число записано в отдельной переменной.</p>"
   ],
   "metadata": {
    "collapsed": false,
    "pycharm": {
     "name": "#%% md\n"
    }
   }
  },
  {
   "cell_type": "code",
   "execution_count": 8,
   "outputs": [
    {
     "name": "stdout",
     "output_type": "stream",
     "text": [
      "23\n"
     ]
    }
   ],
   "source": [
    "num1 = eval(input('Введите первое число: '))\n",
    "num2 = eval(input('Введите второе число: '))\n",
    "num3 = eval(input('Введите третье число: '))\n",
    "\n",
    "print(num1 + num2 + num3)"
   ],
   "metadata": {
    "collapsed": false,
    "pycharm": {
     "name": "#%%\n"
    }
   }
  },
  {
   "cell_type": "markdown",
   "source": [
    "<p>Функция <code>eval()</code> в данном случае нужна для того, чтобы в переменную пользователь мог вписывать и целые числа, и десятичные дроби.</p>\n",
    "\n",
    "## Задача 2. Площадь прямоугольного треугольника\n",
    "\n",
    "<p style=\"font-size: 16px;\">Напишите программу, которая считывает длины двух катетов в прямоугольном треугольнике и выводит его площадь. Каждое число записано в отдельной переменной.</p>\n",
    "\n",
    "<p style=\"font-size: 16px;\">Формула нахождения площади: <code><b>1/2 * b * h</b></code></p>"
   ],
   "metadata": {
    "collapsed": false,
    "pycharm": {
     "name": "#%% md\n"
    }
   }
  },
  {
   "cell_type": "code",
   "execution_count": 9,
   "outputs": [
    {
     "name": "stdout",
     "output_type": "stream",
     "text": [
      "Площадь треугольника:  67.5\n"
     ]
    }
   ],
   "source": [
    "b = eval(input('Введите длинную сторону: '))\n",
    "h = eval(input('Введите короткую сторону: '))\n",
    "\n",
    "print('Площадь треугольника: ', b * h * 0.5)"
   ],
   "metadata": {
    "collapsed": false,
    "pycharm": {
     "name": "#%%\n"
    }
   }
  },
  {
   "cell_type": "markdown",
   "source": [
    "## Задача 3. Дележ яблок\n",
    "\n",
    "<p style=\"font-size: 16px;\"><code>n</code> школьников делят <code>k</code> яблок поровну, неделящийся остаток остается в корзинке. Сколько яблок достанется каждому школьнику? Сколько яблок останется в корзинке? Программа получает на вход числа <code>n</code> и <code>k</code> и должна вывести искомое количество яблок (два числа).</p>"
   ],
   "metadata": {
    "collapsed": false,
    "pycharm": {
     "name": "#%% md\n"
    }
   }
  },
  {
   "cell_type": "code",
   "execution_count": 10,
   "outputs": [
    {
     "name": "stdout",
     "output_type": "stream",
     "text": [
      "Каждому:  1\n",
      "Осталось:  5\n"
     ]
    }
   ],
   "source": [
    "n = int(input('Введите количество школьников: '))\n",
    "k = int(input('Введите количество яблок: '))\n",
    "\n",
    "print('Каждому: ', k // n)\n",
    "print('Осталось: ', k % n)"
   ],
   "metadata": {
    "collapsed": false,
    "pycharm": {
     "name": "#%%\n"
    }
   }
  },
  {
   "cell_type": "markdown",
   "source": [
    "## Задача 4. Следующее и предыдущее\n",
    "\n",
    "<p style=\"font-size: 16px\">Напишите программу, которая считывает целое число и выводит текст:</p>\n",
    "\n",
    "<p style=\"font-size: 16px\">Число <b>17</b></p>\n",
    "<ul style=\"font-size: 16px\">\n",
    "    <li>Следующее число: 18</li>\n",
    "    <li>Предыдущее число: 16</li>\n",
    "</ul>"
   ],
   "metadata": {
    "collapsed": false,
    "pycharm": {
     "name": "#%% md\n"
    }
   }
  },
  {
   "cell_type": "code",
   "execution_count": 11,
   "outputs": [
    {
     "name": "stdout",
     "output_type": "stream",
     "text": [
      "Следующее 35\n",
      "Предыдущее 33\n"
     ]
    }
   ],
   "source": [
    "n = int(input('Введите число: '))\n",
    "\n",
    "print('Следующее', n + 1)\n",
    "print('Предыдущее', n - 1)"
   ],
   "metadata": {
    "collapsed": false,
    "pycharm": {
     "name": "#%%\n"
    }
   }
  },
  {
   "cell_type": "markdown",
   "source": [
    "## Задача 5. Сумма цифр числа.\n",
    "\n",
    "<p style=\"font-size: 16px;\">Написать программу, которая получает двузначное число и выводит сумму цифр.<br> Например: <code>83 = 8 + 3 = 11</code>.</p>"
   ],
   "metadata": {
    "collapsed": false,
    "pycharm": {
     "name": "#%% md\n"
    }
   }
  },
  {
   "cell_type": "code",
   "execution_count": 13,
   "outputs": [
    {
     "name": "stdout",
     "output_type": "stream",
     "text": [
      "15\n"
     ]
    }
   ],
   "source": [
    "n = int(input('Введите число: '))\n",
    "\n",
    "tens = n // 10  # находим разряд десятков\n",
    "units = n % 10  # находим разряд единиц\n",
    "\n",
    "print(tens + units)"
   ],
   "metadata": {
    "collapsed": false,
    "pycharm": {
     "name": "#%%\n"
    }
   }
  },
  {
   "cell_type": "code",
   "execution_count": null,
   "outputs": [],
   "source": [],
   "metadata": {
    "collapsed": false,
    "pycharm": {
     "name": "#%%\n"
    }
   }
  },
  {
   "cell_type": "code",
   "execution_count": 2,
   "metadata": {},
   "outputs": [
    {
     "name": "stdout",
     "output_type": "stream",
     "text": [
      "Введите первое число: 10\n",
      "Введите второе число: 2\n",
      "Введите третье число: 6\n",
      "18\n"
     ]
    }
   ],
   "source": [
    "num1 = eval(input('Введите первое число: '))\n",
    "num2 = eval(input('Введите второе число: '))\n",
    "num3 = eval(input('Введите третье число: '))\n",
    "\n",
    "print(num1 + num2 + num3)"
   ]
  },
  {
   "cell_type": "markdown",
   "metadata": {},
   "source": [
    "<p>Функция <code>eval()</code> в данном случае нужна для того, чтобы в переменную пользователь мог вписывать и целые числа, и десятичные дроби.</p>\n",
    "\n",
    "## Задача 2. Площадь прямоугольного треугольника\n",
    "\n",
    "<p style=\"font-size: 16px;\">Напишите программу, которая считывает длины двух катетов в прямоугольном треугольнике и выводит его площадь. Каждое число записано в отдельной переменной.</p>\n",
    "\n",
    "<p style=\"font-size: 16px;\">Формула нахождения площади: <code><b>1/2 * b * h</b></code></p>"
   ]
  },
  {
   "cell_type": "code",
   "execution_count": 4,
   "metadata": {},
   "outputs": [
    {
     "name": "stdout",
     "output_type": "stream",
     "text": [
      "Введите длинную сторону: 19\n",
      "Введите короткую сторону: 7\n",
      "Площадь треугольника:  66.5\n"
     ]
    }
   ],
   "source": [
    "b = eval(input('Введите длинную сторону: '))\n",
    "h = eval(input('Введите короткую сторону: '))\n",
    "\n",
    "print('Площадь треугольника: ', b * h * 0.5)"
   ]
  },
  {
   "cell_type": "markdown",
   "metadata": {},
   "source": [
    "## Задача 3. Дележ яблок\n",
    "\n",
    "<p style=\"font-size: 16px;\"><code>n</code> школьников делят <code>k</code> яблок поровну, неделящийся остаток остается в корзинке. Сколько яблок достанется каждому школьнику? Сколько яблок останется в корзинке? Программа получает на вход числа <code>n</code> и <code>k</code> и должна вывести искомое количество яблок (два числа).</p>"
   ]
  },
  {
   "cell_type": "code",
   "execution_count": 5,
   "metadata": {},
   "outputs": [
    {
     "name": "stdout",
     "output_type": "stream",
     "text": [
      "Введите количество школьников: 9\n",
      "Введите количество яблок: 15\n",
      "Каждому:  1\n",
      "Осталось:  6\n"
     ]
    }
   ],
   "source": [
    "n = int(input('Введите количество школьников: '))\n",
    "k = int(input('Введите количество яблок: '))\n",
    "\n",
    "print('Каждому: ', k // n)\n",
    "print('Осталось: ', k % n)"
   ]
  },
  {
   "cell_type": "markdown",
   "metadata": {},
   "source": [
    "## Задача 4. Следующее и предыдущее\n",
    "\n",
    "<p style=\"font-size: 16px\">Напишите программу, которая считывает целое число и выводит текст:</p>\n",
    "\n",
    "<p style=\"font-size: 16px\">Число <b>17</b></p>\n",
    "<ul style=\"font-size: 16px\">\n",
    "    <li>Следующее число: 18</li>\n",
    "    <li>Предыдущее число: 16</li>\n",
    "</ul>"
   ]
  },
  {
   "cell_type": "code",
   "execution_count": 6,
   "metadata": {},
   "outputs": [
    {
     "name": "stdout",
     "output_type": "stream",
     "text": [
      "Введите число: 8\n",
      "Следующее 9\n",
      "Предыдущее 7\n"
     ]
    }
   ],
   "source": [
    "n = int(input('Введите число: '))\n",
    "\n",
    "print('Следующее', n + 1)\n",
    "print('Предыдущее', n - 1)"
   ]
  },
  {
   "cell_type": "markdown",
   "metadata": {},
   "source": [
    "## Задача 5. Сумма цифр числа.\n",
    "\n",
    "<p style=\"font-size: 16px;\">Написать программу, которая получает двузначное число и выводит сумму цифр.<br> Например: <code>83 = 8 + 3 = 11</code>.</p>"
   ]
  },
  {
   "cell_type": "code",
   "execution_count": 7,
   "metadata": {},
   "outputs": [
    {
     "name": "stdout",
     "output_type": "stream",
     "text": [
      "Введите число: 34\n",
      "7\n"
     ]
    }
   ],
   "source": [
    "n = int(input('Введите число: '))\n",
    "\n",
    "tens = n // 10  # находим разряд десятков\n",
    "units = n % 10  # находим разряд единиц\n",
    "\n",
    "print(tens + units)"
   ]
  }
 ],
 "metadata": {
  "kernelspec": {
   "display_name": "Python 3 (ipykernel)",
   "language": "python",
   "name": "python3"
  },
  "language_info": {
   "codemirror_mode": {
    "name": "ipython",
    "version": 3
   },
   "file_extension": ".py",
   "mimetype": "text/x-python",
   "name": "python",
   "nbconvert_exporter": "python",
   "pygments_lexer": "ipython3",
   "version": "3.9.4"
  }
 },
 "nbformat": 4,
 "nbformat_minor": 1
}