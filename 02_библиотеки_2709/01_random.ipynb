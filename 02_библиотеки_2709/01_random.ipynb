{
 "cells": [
  {
   "cell_type": "markdown",
   "metadata": {},
   "source": [
    "# Библиотека <code>random</code>\n",
    "\n",
    "<p style=\"font-size: 18px;\">Библиотека нужна для того, чтобы вы могли работать с псевдослучайностью в ваших программах. Псевдо - потому что настоящего генератора действительно случайных чисел не существует.</p>\n",
    "\n",
    "<p style=\"font-size: 18px;\">Чтобы начать работать с библиотекой <code>random</code> ее нужно импортировать в ваш файл. Для этого напишем: <code>import random as r</code></p>"
   ]
  },
  {
   "cell_type": "code",
   "execution_count": 2,
   "metadata": {},
   "outputs": [],
   "source": [
    "import random as r"
   ]
  },
  {
   "cell_type": "markdown",
   "metadata": {},
   "source": [
    "<ul style=\"font-size: 18px; line-height: 1.8\">\n",
    "    <li><b><code>randint(start, stop)</code></b> - генерирует случайное целое число в диапазоне чисел, которые передаются ей в скобках;</li>\n",
    "    <li><b><code>choice(sequence)</code></b> - достает случайное значение из последовательности. Последовательностью может быть строка, список, кортеж;</li>\n",
    "    <li><b><code>uniform(start, stop)</code></b> - генерирует случайную дробь в диапазоне чисел, которые передаются ей в скобках.</li>\n",
    "</ul>"
   ]
  },
  {
   "cell_type": "code",
   "execution_count": 9,
   "metadata": {},
   "outputs": [
    {
     "name": "stdout",
     "output_type": "stream",
     "text": [
      "74\n",
      "2.5188601727879916\n"
     ]
    }
   ],
   "source": [
    "num1 = r.randint(10, 99)\n",
    "num2 = r.uniform(2.5, 2.52)\n",
    "print(num1)\n",
    "print(num2)"
   ]
  },
  {
   "cell_type": "markdown",
   "metadata": {},
   "source": [
    "<p style=\"font-size: 18px;\">Если вы будете запускать код несколько раз, значения вы будете получать разные, потому что с каждым запуском будет генерироваться новое число.</p>\n",
    "\n",
    "## Решим задачу с применением библиотеки <code>random</code>\n",
    "\n",
    "<p style=\"font-size: 18px;\"><b>Задача 1:</b> нужно сгенерировать случайное трехзначное целое число и найти сумму его цифр.<p>"
   ]
  },
  {
   "cell_type": "code",
   "execution_count": 11,
   "metadata": {},
   "outputs": [
    {
     "name": "stdout",
     "output_type": "stream",
     "text": [
      "831\n",
      "8 3 1\n",
      "12\n"
     ]
    }
   ],
   "source": [
    "import random as r\n",
    "\n",
    "r_int = r.randint(100, 999)\n",
    "hundreds = r_int // 100\n",
    "tens = r_int % 100 // 10\n",
    "units = r_int % 10\n",
    "\n",
    "print(r_int)\n",
    "print(hundreds, tens, units)\n",
    "print(hundreds + tens + units)"
   ]
  },
  {
   "cell_type": "markdown",
   "metadata": {},
   "source": [
    "<p style=\"font-size: 18px;\"><b>Задача 2:</b> нужно сгенерировать случайное четырехзначное число и найти сумму его цифр.</p>"
   ]
  },
  {
   "cell_type": "code",
   "execution_count": 15,
   "metadata": {},
   "outputs": [
    {
     "name": "stdout",
     "output_type": "stream",
     "text": [
      "8526\n",
      "8 5 2 6\n",
      "13\n"
     ]
    }
   ],
   "source": [
    "import random as r\n",
    "\n",
    "r_int = r.randint(1000, 9999)\n",
    "thousands = r_int // 1000\n",
    "hundreds = r_int % 1000 // 100\n",
    "tens = r_int % 100 // 10\n",
    "units = r_int % 10\n",
    "\n",
    "print(r_int)\n",
    "print(thousands, hundreds, tens, units)\n",
    "print(hundreds + tens + units)"
   ]
  },
  {
   "cell_type": "markdown",
   "metadata": {},
   "source": [
    "<p style=\"font-size: 18px;\">При помощи функции <code>choice(seq)</code> мы можем достать случайное значение из последовательности. Последовательностью из известных нам типов данных может быть только строка.</p>"
   ]
  },
  {
   "cell_type": "code",
   "execution_count": 1,
   "metadata": {},
   "outputs": [],
   "source": []
  }
 ],
 "metadata": {
  "kernelspec": {
   "display_name": "Python 3 (ipykernel)",
   "language": "python",
   "name": "python3"
  },
  "language_info": {
   "codemirror_mode": {
    "name": "ipython",
    "version": 3
   },
   "file_extension": ".py",
   "mimetype": "text/x-python",
   "name": "python",
   "nbconvert_exporter": "python",
   "pygments_lexer": "ipython3",
   "version": "3.9.4"
  }
 },
 "nbformat": 4,
 "nbformat_minor": 1
}
